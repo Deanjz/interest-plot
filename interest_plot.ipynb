{
 "cells": [
  {
   "cell_type": "code",
   "execution_count": null,
   "metadata": {},
   "outputs": [],
   "source": [
    "%matplotlib widget\n",
    "\n",
    "import numpy as np\n",
    "import matplotlib.pyplot as plt\n",
    "from ipywidgets import interact, FloatSlider, IntSlider, Dropdown, Layout\n",
    "\n",
    "# Defaults\n",
    "P0, r0, years0, comp0 = 1000, 5.0, 10, 'Annual'\n",
    "\n",
    "# Create a single figure for smooth updates\n",
    "fig, ax = plt.subplots(figsize=(10, 6), dpi=150)\n",
    "\n",
    "def update(P, r_pct, years, comp):\n",
    "    ax.clear()\n",
    "    r = r_pct / 100.0\n",
    "    t = np.linspace(0, max(years, 1), 300)\n",
    "\n",
    "    # Simple interest\n",
    "    A_simple = P * (1 + r * t)\n",
    "\n",
    "    # Compound interest\n",
    "    if comp == 'Continuous':\n",
    "        A_comp = P * np.exp(r * t)\n",
    "        comp_label = 'Compound (continuous)'\n",
    "    else:\n",
    "        n = {'Annual': 1, 'Quarterly': 4, 'Monthly': 12, 'Daily': 365}[comp]\n",
    "        A_comp = P * (1 + r / n) ** (n * t)\n",
    "        comp_label = f'Compound (n={n})'\n",
    "\n",
    "    ax.plot(t, A_simple, linestyle='--', color='blue', linewidth=2, label='Simple interest')\n",
    "    ax.plot(t, A_comp, color='orange', linewidth=2, label=comp_label)\n",
    "    ax.set_xlabel('Years')\n",
    "    ax.set_ylabel('Amount ($)')\n",
    "    ax.set_title('Simple vs Compound Interest')\n",
    "    ax.grid(True, linewidth=0.5)\n",
    "    ax.legend()\n",
    "    fig.canvas.draw_idle()\n",
    "\n",
    "# Widget controls\n",
    "narrow = Layout(width='45%')\n",
    "interact(\n",
    "    update,\n",
    "    P=FloatSlider(value=P0, min=100, max=20000, step=100, description='Principal ($)', layout=narrow),\n",
    "    r_pct=FloatSlider(value=r0, min=0.1, max=20.0, step=0.1, description='Rate (% p.a.)', layout=narrow),\n",
    "    years=IntSlider(value=years0, min=1, max=50, step=1, description='Years', layout=narrow),\n",
    "    comp=Dropdown(options=['Annual','Quarterly','Monthly','Daily','Continuous'],\n",
    "                  value=comp0, description='Compounding', layout=narrow)\n",
    ");\n"
   ]
  }
 ],
 "metadata": {
  "kernelspec": {
   "display_name": "Python 3",
   "language": "python",
   "name": "python3"
  },
  "language_info": {
   "name": "python",
   "version": "3.11"
  }
 },
 "nbformat": 4,
 "nbformat_minor": 5
}